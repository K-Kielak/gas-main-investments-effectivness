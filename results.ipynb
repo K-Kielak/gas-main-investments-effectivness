{
 "cells": [
  {
   "cell_type": "markdown",
   "metadata": {},
   "source": [
    "# Gas Main Investment Cost and Risk modelling\n",
    "Results of the machine learning models that predict cost and associated risk with the investment in gas mains in Poland. Models output the expected risk and cost of the specified main relatively to the price of one kilometer of the most typical main (standard model, 700mm diameter, 4.4MPa pressure)."
   ]
  },
  {
   "cell_type": "markdown",
   "metadata": {},
   "source": [
    "### Preparing models\n",
    "Models that will be used are specified `gmie/config.py` file. All new models first need to be trained as specifed in the `README.md`"
   ]
  },
  {
   "cell_type": "code",
   "execution_count": 1,
   "metadata": {},
   "outputs": [],
   "source": [
    "import numpy as np\n",
    "import tensorflow as tf\n",
    "\n",
    "from gmie.config import *\n",
    "from gmie.preprocessing import *\n",
    "\n",
    "\n",
    "all_models = TRAINING_MODELS + SOLVABLE_MODELS\n",
    "collections = [(model.name,\n",
    "                tf.get_collection(tf.GraphKeys.GLOBAL_VARIABLES, scope=model.name))\n",
    "               for model in all_models]\n",
    "savers = [(name, tf.train.Saver(var_list=coll)) for name, coll in collections]"
   ]
  },
  {
   "cell_type": "markdown",
   "metadata": {},
   "source": [
    "### Start tensorflow session"
   ]
  },
  {
   "cell_type": "code",
   "execution_count": 7,
   "metadata": {},
   "outputs": [
    {
     "name": "stdout",
     "output_type": "stream",
     "text": [
      "INFO:tensorflow:Restoring parameters from /home/kacper/Pulpit/Rozwoj/Science/KamratKielak/GMIE/gmie/../saved-models/feedforwad_nn_18_lrelu\n",
      "INFO:tensorflow:Restoring parameters from /home/kacper/Pulpit/Rozwoj/Science/KamratKielak/GMIE/gmie/../saved-models/quadratic_regression\n",
      "Outputs after denormalizations: 0.08618229\n",
      "Outputs after denormalizations: 0.08618229\n"
     ]
    }
   ],
   "source": [
    "inputs = np.array([[750, 0, 0]])\n",
    "\n",
    "with tf.Session() as sess:\n",
    "    sess.run(tf.global_variables_initializer())\n",
    "    [s.restore(sess, os.path.join(SAVE_DIR, name)) for name, s in savers]\n",
    "    for model in all_models:\n",
    "        norm_inputs = model.normalize_inputs(denorm_inputs, sess)\n",
    "        output = model.predict(norm_inputs, sess)\n",
    "        denorm_output = model.denormalize_outputs(output, sess)[0][0]\n",
    "        print('Outputs after denormalizations:', norm_output)"
   ]
  },
  {
   "cell_type": "code",
   "execution_count": null,
   "metadata": {},
   "outputs": [],
   "source": []
  }
 ],
 "metadata": {
  "kernelspec": {
   "display_name": "Python 3",
   "language": "python",
   "name": "python3"
  },
  "language_info": {
   "codemirror_mode": {
    "name": "ipython",
    "version": 3
   },
   "file_extension": ".py",
   "mimetype": "text/x-python",
   "name": "python",
   "nbconvert_exporter": "python",
   "pygments_lexer": "ipython3",
   "version": "3.6.5"
  }
 },
 "nbformat": 4,
 "nbformat_minor": 1
}
