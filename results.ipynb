{
 "cells": [
  {
   "cell_type": "markdown",
   "metadata": {},
   "source": [
    "# Gas Main Investment Cost and Risk modelling\n",
    "Results of the machine learning models that predict cost and associated risk with the investment in gas mains in Poland. Models output the expected risk and cost of the specified main relatively to the price of one kilometer of the most typical main (standard model, 700mm diameter, 4.4MPa pressure)."
   ]
  },
  {
   "cell_type": "markdown",
   "metadata": {},
   "source": [
    "### Preparing models\n",
    "Models that will be used are specified `gmie/config.py` file. All new models first need to be trained as specifed in the `README.md`"
   ]
  },
  {
   "cell_type": "code",
   "execution_count": 1,
   "metadata": {},
   "outputs": [],
   "source": [
    "import numpy as np\n",
    "import tensorflow as tf\n",
    "\n",
    "from gmie.config import *\n",
    "from gmie.preprocessing import *\n",
    "\n",
    "\n",
    "all_models = TRAINING_MODELS + SOLVABLE_MODELS\n",
    "collections = [(model.name,\n",
    "                tf.get_collection(tf.GraphKeys.GLOBAL_VARIABLES, scope=model.name))\n",
    "               for model in all_models]\n",
    "savers = [(name, tf.train.Saver(var_list=coll)) for name, coll in collections]"
   ]
  },
  {
   "cell_type": "markdown",
   "metadata": {},
   "source": [
    "### Start tensorflow session"
   ]
  },
  {
   "cell_type": "code",
   "execution_count": 2,
   "metadata": {},
   "outputs": [
    {
     "name": "stdout",
     "output_type": "stream",
     "text": [
      "INFO:tensorflow:Restoring parameters from /home/kacper/Pulpit/Rozwoj/Science/KamratKielak/GMIE/gmie/../saved-models/feedforwad_nn_18_lrelu\n",
      "INFO:tensorflow:Restoring parameters from /home/kacper/Pulpit/Rozwoj/Science/KamratKielak/GMIE/gmie/../saved-models/quadratic_regression\n"
     ]
    },
    {
     "data": {
      "application/vnd.jupyter.widget-view+json": {
       "model_id": "8a858487d3564136922803af93475835",
       "version_major": 2,
       "version_minor": 0
      },
      "text/plain": [
       "interactive(children=(IntSlider(value=750, description='Diameter:', max=1400, min=100, step=5), SelectionSlide…"
      ]
     },
     "metadata": {},
     "output_type": "display_data"
    }
   ],
   "source": [
    "from ipywidgets import widgets as iws\n",
    "from ipywidgets.widgets import interact\n",
    "\n",
    "from gmie.mains import MainModel\n",
    "\n",
    "sess = tf.Session()\n",
    "sess.run(tf.global_variables_initializer())\n",
    "[s.restore(sess, os.path.join(SAVE_DIR, name)) for name, s in savers]\n",
    "\n",
    "@interact(\n",
    "    diameter=iws.IntSlider(value=750, min=100, max=1400, \n",
    "                           step=5, description='Diameter:'),\n",
    "    model=iws.SelectionSlider(options=['reduced', 'standard', 'elevated'],\n",
    "                              value='standard', description='Model:'),\n",
    "    pressure=iws.FloatSlider(value=4.4, min=2.0, max=7.0, \n",
    "                             step=0.01, description='Pressure')\n",
    ")\n",
    "def run_model(diameter, model, pressure):\n",
    "    model = MainModel[model.upper()]\n",
    "    inputs = np.array([[diameter, model.value, pressure]])\n",
    "    for model in all_models:\n",
    "        norm_inputs = model.normalize_inputs(inputs, sess)\n",
    "        output = model.predict(norm_inputs, sess)\n",
    "        denorm_output = model.denormalize_outputs(output, sess)[0][0]\n",
    "        print('Outputs after denormalizations:', denorm_output)"
   ]
  },
  {
   "cell_type": "code",
   "execution_count": null,
   "metadata": {},
   "outputs": [],
   "source": []
  }
 ],
 "metadata": {
  "kernelspec": {
   "display_name": "Python 3",
   "language": "python",
   "name": "python3"
  },
  "language_info": {
   "codemirror_mode": {
    "name": "ipython",
    "version": 3
   },
   "file_extension": ".py",
   "mimetype": "text/x-python",
   "name": "python",
   "nbconvert_exporter": "python",
   "pygments_lexer": "ipython3",
   "version": "3.6.5"
  }
 },
 "nbformat": 4,
 "nbformat_minor": 1
}
