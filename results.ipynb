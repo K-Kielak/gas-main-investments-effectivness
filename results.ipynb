{
 "cells": [
  {
   "cell_type": "markdown",
   "metadata": {},
   "source": [
    "# Gas Main Investment Cost and Risk modelling\n",
    "Results of the machine learning models that predict cost and associated risk with the investment in gas mains in Poland. Models output the expected risk and cost of the specified main relatively to the price of one kilometer of the most typical main (standard model, 700mm diameter, 4.4MPa pressure)."
   ]
  },
  {
   "cell_type": "markdown",
   "metadata": {},
   "source": [
    "### Preparing models\n",
    "Models that will be used are specified `gmie/config.py` file. All new models first need to be trained as specifed in the `README.md`"
   ]
  },
  {
   "cell_type": "code",
   "execution_count": 1,
   "metadata": {},
   "outputs": [
    {
     "data": {
      "text/plain": [
       "[None, None]"
      ]
     },
     "execution_count": 1,
     "metadata": {},
     "output_type": "execute_result"
    }
   ],
   "source": [
    "import logging\n",
    "import numpy as np\n",
    "import tensorflow as tf\n",
    "\n",
    "from gmie.config import *\n",
    "from gmie.preprocessing import *\n",
    "\n",
    "\n",
    "logging.getLogger('tensorflow').setLevel(logging.WARNING)\n",
    "all_models = TRAINING_MODELS + SOLVABLE_MODELS\n",
    "collections = [(model.name,\n",
    "                tf.get_collection(tf.GraphKeys.GLOBAL_VARIABLES, scope=model.name))\n",
    "               for model in all_models]\n",
    "savers = [(name, tf.train.Saver(var_list=coll)) for name, coll in collections]\n",
    "\n",
    "sess = tf.Session()\n",
    "sess.run(tf.global_variables_initializer())\n",
    "[s.restore(sess, os.path.join(SAVE_DIR, name)) for name, s in savers]"
   ]
  },
  {
   "cell_type": "raw",
   "metadata": {},
   "source": [
    "### Prepare notebook visualization environment"
   ]
  },
  {
   "cell_type": "code",
   "execution_count": 2,
   "metadata": {},
   "outputs": [],
   "source": [
    "from ipywidgets import widgets as iws\n",
    "from ipywidgets.widgets import interact\n",
    "from matplotlib import pyplot as plt\n",
    "from scipy import stats\n",
    "\n",
    "from gmie.mains import MainModel\n",
    "\n",
    "\n",
    "def plot_gaussian(mean, variance):\n",
    "    sigma = math.sqrt(variance)\n",
    "    x = np.linspace(mean - 3*sigma, mean + 3*sigma, 100)\n",
    "    plt.plot(x, stats.norm.pdf(x, mean, sigma))\n",
    "    plt.show()"
   ]
  },
  {
   "cell_type": "markdown",
   "metadata": {},
   "source": [
    "### Run models and visualise outputs"
   ]
  },
  {
   "cell_type": "code",
   "execution_count": 5,
   "metadata": {
    "scrolled": false
   },
   "outputs": [
    {
     "data": {
      "application/vnd.jupyter.widget-view+json": {
       "model_id": "903063195f8a4dc5bf7e8334b8b8d974",
       "version_major": 2,
       "version_minor": 0
      },
      "text/plain": [
       "interactive(children=(IntSlider(value=750, description='Diameter:', max=1400, min=100, step=5), SelectionSlide…"
      ]
     },
     "metadata": {},
     "output_type": "display_data"
    }
   ],
   "source": [
    "@interact(\n",
    "    diameter=iws.IntSlider(value=750, min=100, max=1400, \n",
    "                           step=5, description='Diameter:'),\n",
    "    model=iws.SelectionSlider(options=['reduced', 'standard', 'elevated'],\n",
    "                              value='standard', description='Model:'),\n",
    "    pressure=iws.FloatSlider(value=4.4, min=2.0, max=7.0, \n",
    "                             step=0.01, description='Pressure')\n",
    ")\n",
    "def run_model(diameter, model, pressure):\n",
    "    model = MainModel[model.upper()]\n",
    "    inputs = np.array([[diameter, model.value, pressure]])\n",
    "    for model in all_models:\n",
    "        norm_inputs = model.normalize_inputs(inputs, sess)\n",
    "        output = model.predict(norm_inputs, sess)\n",
    "        denorm_output = model.denormalize_outputs(output, sess)[0][0]\n",
    "        variance = model.get_denorm_variance(sess)[0]\n",
    "        print(f'{model.name}:')\n",
    "        print('mean:', denorm_output)\n",
    "        print('variance:', variance)\n",
    "        plot_gaussian(denorm_output, variance)"
   ]
  },
  {
   "cell_type": "code",
   "execution_count": null,
   "metadata": {},
   "outputs": [],
   "source": []
  }
 ],
 "metadata": {
  "kernelspec": {
   "display_name": "Python 3",
   "language": "python",
   "name": "python3"
  },
  "language_info": {
   "codemirror_mode": {
    "name": "ipython",
    "version": 3
   },
   "file_extension": ".py",
   "mimetype": "text/x-python",
   "name": "python",
   "nbconvert_exporter": "python",
   "pygments_lexer": "ipython3",
   "version": "3.6.5"
  }
 },
 "nbformat": 4,
 "nbformat_minor": 1
}
